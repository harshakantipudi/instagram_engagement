{
 "cells": [
  {
   "cell_type": "markdown",
   "metadata": {},
   "source": [
    "## Instagram Engagement Percentage "
   ]
  },
  {
   "cell_type": "markdown",
   "metadata": {},
   "source": [
    "- As a purely consumer based company, we are looking into how to advertise our products most cost-effectively. \n",
    "\n",
    "- One of these methods is to search for an Instagram influencer willing to make a post about our product line.\n",
    "\n",
    "- After manually searching for potential influencers through the Instagram mobile application, I was determined to find a more automated method to filter by their “Engagement” percentage (the value of an influencer compared to her audience)."
   ]
  },
  {
   "cell_type": "markdown",
   "metadata": {},
   "source": [
    "##### Engagement Percentage Formula\n",
    "\n",
    "\n",
    "To calculate the percentage, we need the following:\n",
    "\n",
    "\n",
    "Number of Posts\n",
    "\n",
    "Number of Followers\n",
    "\n",
    "Total Number of Comments on Posts\n",
    "\n",
    "Total Number of Likes on Posts\n",
    "\n",
    "##### Engagement = (Total Number of Comments + Total Number of Likes) / (Number of Posts * Number of Followers) * 100\n",
    "\n",
    "Note: Multiplied by a 100 for a percentage.\n",
    "\n",
    "\n",
    "The next step is to calculate the percentage automatically without going through each post manually. \n",
    "\n",
    " I began by attempting to scrape my own personal Instagram profile (@harsha_kantipudi). It was not surprising that scraping the page for the number of likes/comments on each post is extremely difficult (asynchronous calls to grab the information with on-demand loading). However, since there exist entire markets dedicated to finding influencers, I knew there would be a solution that exists already."
   ]
  },
  {
   "cell_type": "code",
   "execution_count": 3,
   "metadata": {},
   "outputs": [
    {
     "name": "stdout",
     "output_type": "stream",
     "text": [
      "3.2171840676646664\n"
     ]
    }
   ],
   "source": [
    "import instaloader\n",
    "target_profile = 'anaisindra'\n",
    "\n",
    "from instaloader import Instaloader, Profile\n",
    "loader = Instaloader()\n",
    "\n",
    "profile = Profile.from_username(loader.context, target_profile)\n",
    "\n",
    "num_followers = profile.followers\n",
    "total_num_likes = 0\n",
    "total_num_comments = 0\n",
    "total_num_posts = 0\n",
    "\n",
    "for post in profile.get_posts():\n",
    "    total_num_likes += post.likes\n",
    "    total_num_comments += post.comments\n",
    "    total_num_posts += 1\n",
    "\n",
    "\n",
    "engagement = float(total_num_likes + total_num_comments) / (num_followers * total_num_posts)\n",
    "print(engagement * 100)"
   ]
  },
  {
   "cell_type": "code",
   "execution_count": null,
   "metadata": {},
   "outputs": [],
   "source": []
  }
 ],
 "metadata": {
  "kernelspec": {
   "display_name": "Python 3",
   "language": "python",
   "name": "python3"
  },
  "language_info": {
   "codemirror_mode": {
    "name": "ipython",
    "version": 3
   },
   "file_extension": ".py",
   "mimetype": "text/x-python",
   "name": "python",
   "nbconvert_exporter": "python",
   "pygments_lexer": "ipython3",
   "version": "3.8.3"
  }
 },
 "nbformat": 4,
 "nbformat_minor": 4
}
